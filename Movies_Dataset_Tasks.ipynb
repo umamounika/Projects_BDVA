{
 "cells": [
  {
   "cell_type": "markdown",
   "metadata": {},
   "source": [
    "##### Name : Uma Mounika K\n",
    "##### Roll No : BF18BDV010"
   ]
  },
  {
   "cell_type": "code",
   "execution_count": 1,
   "metadata": {},
   "outputs": [
    {
     "name": "stderr",
     "output_type": "stream",
     "text": [
      "/home/uma/anaconda3/lib/python3.6/site-packages/sklearn/cross_validation.py:41: DeprecationWarning: This module was deprecated in version 0.18 in favor of the model_selection module into which all the refactored classes and functions are moved. Also note that the interface of the new CV iterators are different from that of this module. This module will be removed in 0.20.\n",
      "  \"This module will be removed in 0.20.\", DeprecationWarning)\n"
     ]
    }
   ],
   "source": [
    "import pandas as pd\n",
    "import numpy as np\n",
    "import matplotlib.pyplot as plt\n",
    "from sklearn.cross_validation import train_test_split\n",
    "from sklearn.linear_model import LinearRegression\n",
    "from sklearn.model_selection import KFold\n",
    "from sklearn.model_selection import learning_curve\n",
    "from sklearn.model_selection import ShuffleSplit\n",
    "from sklearn.preprocessing import MinMaxScaler\n",
    "from scipy import stats\n",
    "import re\n",
    "import math\n",
    "movies=pd.read_csv(\"/home/uma/Downloads/movies.csv\")"
   ]
  },
  {
   "cell_type": "markdown",
   "metadata": {},
   "source": [
    "### Task-1 Removing non- movies"
   ]
  },
  {
   "cell_type": "code",
   "execution_count": 2,
   "metadata": {},
   "outputs": [],
   "source": [
    "new_m=movies[movies['Type']==\"movie\"] "
   ]
  },
  {
   "cell_type": "markdown",
   "metadata": {},
   "source": [
    "### Task-2 Converting runtimes to minutes"
   ]
  },
  {
   "cell_type": "code",
   "execution_count": 3,
   "metadata": {},
   "outputs": [
    {
     "name": "stderr",
     "output_type": "stream",
     "text": [
      "/home/uma/anaconda3/lib/python3.6/site-packages/ipykernel_launcher.py:11: SettingWithCopyWarning: \n",
      "A value is trying to be set on a copy of a slice from a DataFrame.\n",
      "Try using .loc[row_indexer,col_indexer] = value instead\n",
      "\n",
      "See the caveats in the documentation: http://pandas.pydata.org/pandas-docs/stable/indexing.html#indexing-view-versus-copy\n",
      "  # This is added back by InteractiveShellApp.init_path()\n"
     ]
    }
   ],
   "source": [
    "def toMins(a):\n",
    "    s=str(a)\n",
    "    mins=float('nan')\n",
    "    m=re.match(r\"(\\d+)\\s+h\\s+(\\d+)\\s+m\\w+\",s)\n",
    "    if m is not None:\n",
    "        mins=float(m.groups()[0])*60+float(m.groups()[1])\n",
    "    m=re.match(r\"(\\d+)\\s+m\\w+\",s)\n",
    "    if m is not None:\n",
    "        mins=float(m.groups()[0])\n",
    "    return mins\n",
    "new_m['Runtime']=list(map(toMins,new_m['Runtime']))"
   ]
  },
  {
   "cell_type": "markdown",
   "metadata": {},
   "source": [
    "### Task-3 Plotting histograms of log(features)"
   ]
  },
  {
   "cell_type": "code",
   "execution_count": 4,
   "metadata": {},
   "outputs": [
    {
     "name": "stderr",
     "output_type": "stream",
     "text": [
      "/home/uma/anaconda3/lib/python3.6/site-packages/numpy/lib/function_base.py:780: RuntimeWarning: invalid value encountered in greater_equal\n",
      "  keep = (tmp_a >= first_edge)\n",
      "/home/uma/anaconda3/lib/python3.6/site-packages/numpy/lib/function_base.py:781: RuntimeWarning: invalid value encountered in less_equal\n",
      "  keep &= (tmp_a <= last_edge)\n"
     ]
    },
    {
     "data": {
      "image/png": "[encoded data removed]",
      "text/plain": [
       "<Figure size 432x288 with 1 Axes>"
      ]
     },
     "metadata": {},
     "output_type": "display_data"
    },
    {
     "data": {
      "image/png": "[encoded data removed]",
      "text/plain": [
       "<Figure size 432x288 with 1 Axes>"
      ]
     },
     "metadata": {},
     "output_type": "display_data"
    },
    {
     "data": {
      "image/png": "[encoded data removed]",
      "text/plain": [
       "<Figure size 432x288 with 1 Axes>"
      ]
     },
     "metadata": {},
     "output_type": "display_data"
    }
   ],
   "source": [
    "for i in list(new_m[['Runtime','Budget','Year']].columns):\n",
    "    x=new_m[i].apply(np.log)\n",
    "    plt.hist(x,range=[x.min(),x.max()])\n",
    "    plt.title(i)\n",
    "    plt.show()"
   ]
  },
  {
   "cell_type": "markdown",
   "metadata": {},
   "source": [
    "### Task-4 Converting Awards to Wins and Nominations"
   ]
  },
  {
   "cell_type": "code",
   "execution_count": 5,
   "metadata": {},
   "outputs": [
    {
     "name": "stderr",
     "output_type": "stream",
     "text": [
      "/home/uma/anaconda3/lib/python3.6/site-packages/ipykernel_launcher.py:22: SettingWithCopyWarning: \n",
      "A value is trying to be set on a copy of a slice from a DataFrame.\n",
      "Try using .loc[row_indexer,col_indexer] = value instead\n",
      "\n",
      "See the caveats in the documentation: http://pandas.pydata.org/pandas-docs/stable/indexing.html#indexing-view-versus-copy\n",
      "/home/uma/anaconda3/lib/python3.6/site-packages/ipykernel_launcher.py:23: SettingWithCopyWarning: \n",
      "A value is trying to be set on a copy of a slice from a DataFrame.\n",
      "Try using .loc[row_indexer,col_indexer] = value instead\n",
      "\n",
      "See the caveats in the documentation: http://pandas.pydata.org/pandas-docs/stable/indexing.html#indexing-view-versus-copy\n"
     ]
    }
   ],
   "source": [
    "def winNomin(a):\n",
    "    a=str(a)\n",
    "    n_b=re.findall(r\"nominated\\sfor\\s\\d+\",a,re.I|re.M)\n",
    "    n_a=re.findall(r\"\\d+\\s+nomination\\w+\",a,re.I|re.M)\n",
    "    w_b=re.findall(r\"won\\s\\d+\",a,re.I|re.M)\n",
    "    w_a=re.findall(r\"\\d+\\s+win\\w+\",a,re.I|re.M)\n",
    "    nominations=0\n",
    "    wins=0\n",
    "   \n",
    "    if len(n_b)!=0:\n",
    "        nominations+=int(re.match(r\"\\w+\\s+\\w+\\s+(\\d+)\",n_b[0]).groups()[0])\n",
    "    if len(n_a)!=0:\n",
    "        nominations+=int(re.match(r\"(\\d+)\\s+\\w+\",n_a[0]).groups()[0])\n",
    "    if len(w_b)!=0:\n",
    "        wins+=int(re.match(r\"\\w+\\s+(\\d+)\",w_b[0]).groups()[0])\n",
    "    if len(w_a)!=0:\n",
    "        wins+=int(re.match(r\"(\\d+)\\s+\\w+\",w_a[0]).groups()[0])\n",
    "    return wins,nominations\n",
    "w_n=list(map(winNomin,new_m['Awards']))\n",
    "w_fi=[k for k,v in w_n]\n",
    "n_fi=[v for k,v in w_n]\n",
    "new_m['Wins']=w_fi\n",
    "new_m['Nominations']=n_fi"
   ]
  },
  {
   "cell_type": "markdown",
   "metadata": {},
   "source": [
    "### Task-5 Converting Genres to features (binary encoding)"
   ]
  },
  {
   "cell_type": "code",
   "execution_count": 6,
   "metadata": {},
   "outputs": [
    {
     "name": "stderr",
     "output_type": "stream",
     "text": [
      "/home/uma/anaconda3/lib/python3.6/site-packages/ipykernel_launcher.py:10: SettingWithCopyWarning: \n",
      "A value is trying to be set on a copy of a slice from a DataFrame.\n",
      "Try using .loc[row_indexer,col_indexer] = value instead\n",
      "\n",
      "See the caveats in the documentation: http://pandas.pydata.org/pandas-docs/stable/indexing.html#indexing-view-versus-copy\n",
      "  # Remove the CWD from sys.path while we load stuff.\n",
      "/home/uma/anaconda3/lib/python3.6/site-packages/ipykernel_launcher.py:30: SettingWithCopyWarning: \n",
      "A value is trying to be set on a copy of a slice from a DataFrame.\n",
      "Try using .loc[row_indexer,col_indexer] = value instead\n",
      "\n",
      "See the caveats in the documentation: http://pandas.pydata.org/pandas-docs/stable/indexing.html#indexing-view-versus-copy\n"
     ]
    }
   ],
   "source": [
    "genres=[]\n",
    "for i in new_m['Genre']:\n",
    "    s=str(i).split(',')\n",
    "    for k in range(len(s)):\n",
    "        genres.append(s[k].strip().lower())\n",
    "        \n",
    "genres_unique=set(genres)\n",
    "\n",
    "genre_values={}\n",
    "for i in genres_unique:\n",
    "    cn=\"genre_\"+i\n",
    "    new_m[cn]=np.nan\n",
    "    genre_values[cn]=[]\n",
    "    \n",
    "cn=\"\"\n",
    "gen=new_m.iloc[:,:]['Genre']\n",
    "b=gen.index\n",
    "for i in b:\n",
    "    gen_str=str(gen[i])\n",
    "    gr=gen_str.split(',')\n",
    "    gr=[x.strip().lower() for x in gr]\n",
    "    gr_set=set(gr)\n",
    "    for j in gr_set:\n",
    "        cn=\"genre_\"+j\n",
    "        if j in genres_unique:\n",
    "            genre_values[cn].insert(i,1)\n",
    "    for j in (genres_unique-gr_set):\n",
    "        cn=\"genre_\"+j\n",
    "        genre_values[cn].insert(i,0)\n",
    "        \n",
    "for i in genre_values:\n",
    "    new_m[i]=genre_values[i]"
   ]
  },
  {
   "cell_type": "markdown",
   "metadata": {},
   "source": [
    "### Task - 6 Plotting Top 10 Genres"
   ]
  },
  {
   "cell_type": "code",
   "execution_count": 7,
   "metadata": {},
   "outputs": [
    {
     "data": {
      "image/png": "[encoded data removed]",
      "text/plain": [
       "<Figure size 432x288 with 1 Axes>"
      ]
     },
     "metadata": {},
     "output_type": "display_data"
    }
   ],
   "source": [
    "one_counter={}\n",
    "c=0\n",
    "for i in genre_values:\n",
    "    c=0\n",
    "    for j in genre_values[i]:\n",
    "        if j==1:\n",
    "            c+=1\n",
    "    one_counter[i]=c\n",
    "    \n",
    "import operator\n",
    "sorted_d = sorted(one_counter.items(), key=operator.itemgetter(1),reverse=True)\n",
    "\n",
    "genres = [k[6:10] for k,v in sorted_d[:10]]\n",
    "y_pos = np.arange(len(genres))\n",
    "performance = [v for k,v in sorted_d[:10]]\n",
    " \n",
    "plt.bar(y_pos, performance, align='center', alpha=0.5)\n",
    "plt.xticks(y_pos, genres)\n",
    "plt.ylabel('No of movies containing the genre')\n",
    "plt.title('Top 10 Genres')\n",
    " \n",
    "plt.show()"
   ]
  },
  {
   "cell_type": "markdown",
   "metadata": {},
   "source": [
    "### Task - 7 Finding Corelation among various features"
   ]
  },
  {
   "cell_type": "code",
   "execution_count": 8,
   "metadata": {},
   "outputs": [
    {
     "data": {
      "text/plain": [
       "0.23087341605959"
      ]
     },
     "execution_count": 8,
     "metadata": {},
     "output_type": "execute_result"
    }
   ],
   "source": [
    "new_m['Runtime'].corr(new_m['Year'])"
   ]
  },
  {
   "cell_type": "code",
   "execution_count": 9,
   "metadata": {},
   "outputs": [
    {
     "data": {
      "text/plain": [
       "0.7419124839791144"
      ]
     },
     "execution_count": 9,
     "metadata": {},
     "output_type": "execute_result"
    }
   ],
   "source": [
    "new_m['Gross'].corr(new_m['Budget'])"
   ]
  },
  {
   "cell_type": "code",
   "execution_count": 10,
   "metadata": {},
   "outputs": [
    {
     "data": {
      "text/plain": [
       "0.2601187348677783"
      ]
     },
     "execution_count": 10,
     "metadata": {},
     "output_type": "execute_result"
    }
   ],
   "source": [
    "new_m['Gross'].corr(new_m['Runtime'])"
   ]
  },
  {
   "cell_type": "code",
   "execution_count": 11,
   "metadata": {},
   "outputs": [
    {
     "data": {
      "text/plain": [
       "0.31281761758119675"
      ]
     },
     "execution_count": 11,
     "metadata": {},
     "output_type": "execute_result"
    }
   ],
   "source": [
    "new_m['Gross'].corr(new_m['Wins'])"
   ]
  },
  {
   "cell_type": "code",
   "execution_count": 12,
   "metadata": {},
   "outputs": [
    {
     "data": {
      "text/plain": [
       "0.3652119180248888"
      ]
     },
     "execution_count": 12,
     "metadata": {},
     "output_type": "execute_result"
    }
   ],
   "source": [
    "new_m['Gross'].corr(new_m['Nominations'])"
   ]
  },
  {
   "cell_type": "code",
   "execution_count": 13,
   "metadata": {},
   "outputs": [
    {
     "data": {
      "text/plain": [
       "0.7938417239203808"
      ]
     },
     "execution_count": 13,
     "metadata": {},
     "output_type": "execute_result"
    }
   ],
   "source": [
    "new_m['tomatoRating'].corr(new_m['imdbRating'])"
   ]
  },
  {
   "cell_type": "code",
   "execution_count": 14,
   "metadata": {},
   "outputs": [
    {
     "data": {
      "text/plain": [
       "0.18736841836515747"
      ]
     },
     "execution_count": 14,
     "metadata": {},
     "output_type": "execute_result"
    }
   ],
   "source": [
    "new_m['imdbRating'].corr(new_m['Wins'])"
   ]
  },
  {
   "cell_type": "code",
   "execution_count": 15,
   "metadata": {},
   "outputs": [
    {
     "data": {
      "text/plain": [
       "0.16438555828366405"
      ]
     },
     "execution_count": 15,
     "metadata": {},
     "output_type": "execute_result"
    }
   ],
   "source": [
    "new_m['imdbRating'].corr(new_m['Nominations'])"
   ]
  },
  {
   "cell_type": "code",
   "execution_count": 16,
   "metadata": {},
   "outputs": [
    {
     "data": {
      "text/plain": [
       "0.1728890702726726"
      ]
     },
     "execution_count": 16,
     "metadata": {},
     "output_type": "execute_result"
    }
   ],
   "source": [
    "new_m['Budget'].corr(new_m['Year'])"
   ]
  },
  {
   "cell_type": "markdown",
   "metadata": {},
   "source": [
    "### Task-8 Dropping rows with Missing Gross Values"
   ]
  },
  {
   "cell_type": "code",
   "execution_count": 17,
   "metadata": {},
   "outputs": [
    {
     "data": {
      "text/plain": [
       "(4558, 71)"
      ]
     },
     "execution_count": 17,
     "metadata": {},
     "output_type": "execute_result"
    }
   ],
   "source": [
    "\n",
    "new_m=new_m[new_m['Gross'].isna()==False]\n",
    "new_m.shape"
   ]
  },
  {
   "cell_type": "markdown",
   "metadata": {},
   "source": [
    "### Task -9 Excluding movies prior to year 2000"
   ]
  },
  {
   "cell_type": "code",
   "execution_count": 18,
   "metadata": {},
   "outputs": [
    {
     "data": {
      "text/plain": [
       "(3163, 71)"
      ]
     },
     "execution_count": 18,
     "metadata": {},
     "output_type": "execute_result"
    }
   ],
   "source": [
    "\n",
    "\n",
    "new_m=new_m[new_m['Year'] > 2000]\n",
    "new_m.shape"
   ]
  },
  {
   "cell_type": "markdown",
   "metadata": {},
   "source": [
    "### Task -10 Modelling to predict Gross values using numeric attributes. Plot Learning curve and R^2 plot for each test and train split"
   ]
  },
  {
   "cell_type": "markdown",
   "metadata": {},
   "source": [
    "###### Creating a new dataframe with only numeric attributes"
   ]
  },
  {
   "cell_type": "code",
   "execution_count": 19,
   "metadata": {},
   "outputs": [],
   "source": [
    "new_m_number=new_m._get_numeric_data()"
   ]
  },
  {
   "cell_type": "markdown",
   "metadata": {},
   "source": [
    "##### Various Columns still possess null values. Detecting those columns.Replacing NAs with mean value of the column"
   ]
  },
  {
   "cell_type": "code",
   "execution_count": 20,
   "metadata": {},
   "outputs": [],
   "source": [
    "for i in new_m_number.columns:\n",
    "    if new_m_number[i].isnull().values.any():\n",
    "        m=new_m_number[i].mean(axis=0,skipna=True)\n",
    "        new_m_number[i]=new_m_number[i].apply(lambda x: m if math.isnan(x) else x)"
   ]
  },
  {
   "cell_type": "markdown",
   "metadata": {},
   "source": [
    "##### Dropping the genre_nan column "
   ]
  },
  {
   "cell_type": "code",
   "execution_count": 21,
   "metadata": {},
   "outputs": [],
   "source": [
    "new_m_number.drop(labels=\"genre_nan\",axis=1,inplace=True)"
   ]
  },
  {
   "cell_type": "markdown",
   "metadata": {},
   "source": [
    "##### Building the model and R^2 value"
   ]
  },
  {
   "cell_type": "code",
   "execution_count": 22,
   "metadata": {},
   "outputs": [
    {
     "name": "stdout",
     "output_type": "stream",
     "text": [
      "model : LinearRegression(copy_X=True, fit_intercept=True, n_jobs=1, normalize=True)\n",
      "co - efficient : [ 7.63787720e+00 -4.12909654e+06  3.13109183e+04  1.29034716e+05\n",
      "  9.56135835e+05  3.71200433e+01  1.81875246e+05 -1.41458443e+06\n",
      " -7.74050254e+04 -6.32252204e+04 -7.18197295e+04 -2.24506969e+05\n",
      "  5.48910904e+06 -4.03914026e-01 -1.31130219e-06  7.99429525e-01\n",
      "  2.04868078e+00  5.96973226e+06  2.15418852e+05  3.79802554e+04\n",
      " -5.04841943e+06  2.67695377e+06  7.15255737e-07 -2.31785781e+06\n",
      "  0.00000000e+00  2.18088018e+06  9.52673964e+06  1.60556782e+06\n",
      " -3.11530977e+05 -6.77674343e+06 -1.73444327e+07  2.66021012e+07\n",
      "  2.10303288e+07 -8.43680547e+06 -3.57627869e-07  5.06686376e+06\n",
      "  8.02908114e+06  6.46869241e+04 -6.49973618e+06  8.01063072e+06\n",
      " -3.51313568e+06 -2.55006541e+07 -1.08905842e+07  1.14733670e+07\n",
      " -1.75288181e+07  0.00000000e+00 -4.63531589e+06  8.42115602e+06]\n",
      "intercept : -3723370056.488455\n",
      " R squared : 0.9169477086108935\n"
     ]
    }
   ],
   "source": [
    "X=new_m_number[[x for x in new_m_number.columns if x!='Gross']]\n",
    "y=new_m_number['Gross']\n",
    "\n",
    "X_train,X_test,y_train,y_test=train_test_split(X,y,test_size=0.2,random_state=42)\n",
    "rgr= LinearRegression(normalize=True)\n",
    "rgr.fit(X_train,y_train)\n",
    "print(\"model :\",rgr)\n",
    "print(\"co - efficient :\",rgr.coef_)\n",
    "print(\"intercept :\",rgr.intercept_)\n",
    "\n",
    "y_predictions=rgr.predict(X_test)\n",
    "print(\" R squared :\",rgr.score(X_test,y_test))"
   ]
  },
  {
   "cell_type": "markdown",
   "metadata": {},
   "source": [
    "##### Using K-fold for splitting the dataset and plotting R^2 plot"
   ]
  },
  {
   "cell_type": "code",
   "execution_count": 23,
   "metadata": {},
   "outputs": [
    {
     "name": "stdout",
     "output_type": "stream",
     "text": [
      "Linear model :  LinearRegression(copy_X=True, fit_intercept=True, n_jobs=1, normalize=True)\n",
      " R squared : 0.9117886456149593\n",
      "Linear model :  LinearRegression(copy_X=True, fit_intercept=True, n_jobs=1, normalize=True)\n",
      " R squared : 0.9013844620816271\n",
      "Linear model :  LinearRegression(copy_X=True, fit_intercept=True, n_jobs=1, normalize=True)\n",
      " R squared : 0.9340021895725552\n",
      "Linear model :  LinearRegression(copy_X=True, fit_intercept=True, n_jobs=1, normalize=True)\n",
      " R squared : 0.9089042280142658\n",
      "Linear model :  LinearRegression(copy_X=True, fit_intercept=True, n_jobs=1, normalize=True)\n",
      " R squared : 0.9155851717900537\n",
      "Linear model :  LinearRegression(copy_X=True, fit_intercept=True, n_jobs=1, normalize=True)\n",
      " R squared : 0.9106364284975018\n",
      "Linear model :  LinearRegression(copy_X=True, fit_intercept=True, n_jobs=1, normalize=True)\n",
      " R squared : 0.922221996926729\n",
      "Linear model :  LinearRegression(copy_X=True, fit_intercept=True, n_jobs=1, normalize=True)\n",
      " R squared : 0.881061147256469\n",
      "Linear model :  LinearRegression(copy_X=True, fit_intercept=True, n_jobs=1, normalize=True)\n",
      " R squared : 0.9146396615740264\n",
      "Linear model :  LinearRegression(copy_X=True, fit_intercept=True, n_jobs=1, normalize=True)\n",
      " R squared : -421730060760974.3\n",
      "[0.9117886456149593, 0.9013844620816271, 0.9340021895725552, 0.9089042280142658, 0.9155851717900537, 0.9106364284975018, 0.922221996926729, 0.881061147256469, 0.9146396615740264, -421730060760974.3]\n"
     ]
    },
    {
     "data": {
      "text/plain": [
       "<matplotlib.collections.PathCollection at 0x7fc8d9189438>"
      ]
     },
     "execution_count": 23,
     "metadata": {},
     "output_type": "execute_result"
    },
    {
     "data": {
      "image/png": "[encoded data removed]",
      "text/plain": [
       "<Figure size 432x288 with 1 Axes>"
      ]
     },
     "metadata": {},
     "output_type": "display_data"
    }
   ],
   "source": [
    "r_sq=[]\n",
    "rgr= LinearRegression(normalize=True)\n",
    "fold=KFold(n_splits=10, random_state=42, shuffle=False)\n",
    "X_a=X.values\n",
    "y_a=y.values\n",
    "for train_index,test_index in fold.split(X):\n",
    "    X_train=X_a[train_index]\n",
    "    X_test= X_a[test_index]\n",
    "    y_train=y_a[train_index]\n",
    "    y_test=y_a[test_index]\n",
    "    rgr.fit(X_train,y_train)\n",
    "    print(\"Linear model : \",rgr)\n",
    "    y_pred=rgr.predict(X_test)\n",
    "    print(\" R squared :\",rgr.score(X_test,y_test))\n",
    "    r_sq.append(rgr.score(X_test,y_test))\n",
    "\n",
    "print(r_sq)\n",
    "r_sq_in=[i for i,x in enumerate(r_sq)]\n",
    "plt.scatter(r_sq,r_sq_in)"
   ]
  },
  {
   "cell_type": "markdown",
   "metadata": {},
   "source": [
    "##### Plotting Learning Curve"
   ]
  },
  {
   "cell_type": "code",
   "execution_count": 24,
   "metadata": {},
   "outputs": [],
   "source": [
    "cv=ShuffleSplit(n_splits=100, test_size=0.2, random_state=0)\n",
    "train_sizes, train_scores, test_scores =learning_curve(rgr, X.values, y.values,\n",
    "                   train_sizes=np.linspace(0.1, 1.0, 5),\n",
    "                   cv=5,n_jobs=-1)"
   ]
  },
  {
   "cell_type": "code",
   "execution_count": 25,
   "metadata": {},
   "outputs": [],
   "source": [
    "train_scores_mean = np.mean(train_scores, axis=1)\n",
    "train_scores_std = np.std(train_scores, axis=1)\n",
    "test_scores_mean = np.mean(test_scores, axis=1)\n",
    "test_scores_std = np.std(test_scores, axis=1)"
   ]
  },
  {
   "cell_type": "code",
   "execution_count": 26,
   "metadata": {},
   "outputs": [
    {
     "data": {
      "text/plain": [
       "<matplotlib.legend.Legend at 0x7fc8d9217390>"
      ]
     },
     "execution_count": 26,
     "metadata": {},
     "output_type": "execute_result"
    },
    {
     "data": {
      "image/png": "[encoded data removed]",
      "text/plain": [
       "<Figure size 432x288 with 1 Axes>"
      ]
     },
     "metadata": {},
     "output_type": "display_data"
    }
   ],
   "source": [
    "plt.grid()\n",
    "plt.fill_between(train_sizes, train_scores_mean - train_scores_std,\n",
    "                     train_scores_mean + train_scores_std, alpha=0.1,\n",
    "                     color=\"r\")\n",
    "plt.fill_between(train_sizes, test_scores_mean - test_scores_std,\n",
    "                     test_scores_mean + test_scores_std, alpha=0.1, color=\"g\")\n",
    "plt.plot(train_sizes, train_scores_mean, 'o-', color=\"r\",\n",
    "             label=\"Training score\")\n",
    "plt.plot(train_sizes, test_scores_mean, 'o-', color=\"g\",\n",
    "             label=\"Cross-validation score\")\n",
    "\n",
    "plt.legend(loc=\"best\")"
   ]
  },
  {
   "cell_type": "markdown",
   "metadata": {},
   "source": [
    "### Task -11 Transformation of features "
   ]
  },
  {
   "cell_type": "code",
   "execution_count": 27,
   "metadata": {},
   "outputs": [],
   "source": [
    "\n",
    "new_m_number_T=new_m_number.copy()"
   ]
  },
  {
   "cell_type": "markdown",
   "metadata": {},
   "source": [
    "##### Boxcox Transformation"
   ]
  },
  {
   "cell_type": "code",
   "execution_count": 29,
   "metadata": {},
   "outputs": [
    {
     "name": "stdout",
     "output_type": "stream",
     "text": [
      "Unnamed: 0\n",
      "Year\n",
      "Runtime\n",
      "Metascore\n",
      "imdbRating\n",
      "imdbVotes\n",
      "tomatoRating\n",
      "tomatoReviews\n",
      "Response\n",
      "Budget\n",
      "Gross\n"
     ]
    },
    {
     "name": "stderr",
     "output_type": "stream",
     "text": [
      "/home/uma/anaconda3/lib/python3.6/site-packages/scipy/stats/morestats.py:900: RuntimeWarning: divide by zero encountered in log\n",
      "  llf -= N / 2.0 * np.log(np.sum((y - y_mean)**2. / N, axis=0))\n",
      "/home/uma/anaconda3/lib/python3.6/site-packages/scipy/optimize/optimize.py:1926: RuntimeWarning: invalid value encountered in double_scalars\n",
      "  tmp1 = (x - w) * (fx - fv)\n",
      "/home/uma/anaconda3/lib/python3.6/site-packages/scipy/optimize/optimize.py:1927: RuntimeWarning: invalid value encountered in double_scalars\n",
      "  tmp2 = (x - v) * (fx - fw)\n"
     ]
    },
    {
     "ename": "ValueError",
     "evalue": "Data must be positive.",
     "output_type": "error",
     "traceback": [
      "\u001b[0;31m---------------------------------------------------------------------------\u001b[0m",
      "\u001b[0;31mValueError\u001b[0m                                Traceback (most recent call last)",
      "\u001b[0;32m<ipython-input-29-07767af15c7d>\u001b[0m in \u001b[0;36m<module>\u001b[0;34m()\u001b[0m\n\u001b[1;32m     15\u001b[0m \u001b[0;32mfor\u001b[0m \u001b[0mi\u001b[0m \u001b[0;32min\u001b[0m \u001b[0mcol\u001b[0m\u001b[0;34m[\u001b[0m\u001b[0;36m17\u001b[0m\u001b[0;34m:\u001b[0m\u001b[0;36m18\u001b[0m\u001b[0;34m]\u001b[0m\u001b[0;34m:\u001b[0m\u001b[0;34m\u001b[0m\u001b[0m\n\u001b[1;32m     16\u001b[0m     \u001b[0mprint\u001b[0m\u001b[0;34m(\u001b[0m\u001b[0mi\u001b[0m\u001b[0;34m)\u001b[0m\u001b[0;34m\u001b[0m\u001b[0m\n\u001b[0;32m---> 17\u001b[0;31m     \u001b[0mnew_m_number_T\u001b[0m\u001b[0;34m[\u001b[0m\u001b[0mi\u001b[0m\u001b[0;34m]\u001b[0m\u001b[0;34m=\u001b[0m\u001b[0mstats\u001b[0m\u001b[0;34m.\u001b[0m\u001b[0mboxcox\u001b[0m\u001b[0;34m(\u001b[0m\u001b[0mnew_m_number\u001b[0m\u001b[0;34m[\u001b[0m\u001b[0mi\u001b[0m\u001b[0;34m]\u001b[0m\u001b[0;34m)\u001b[0m\u001b[0;34m[\u001b[0m\u001b[0;36m0\u001b[0m\u001b[0;34m]\u001b[0m\u001b[0;34m\u001b[0m\u001b[0m\n\u001b[0m\u001b[1;32m     18\u001b[0m \u001b[0;32mfor\u001b[0m \u001b[0mi\u001b[0m \u001b[0;32min\u001b[0m \u001b[0mcol\u001b[0m\u001b[0;34m[\u001b[0m\u001b[0;36m21\u001b[0m\u001b[0;34m:\u001b[0m\u001b[0;34m]\u001b[0m\u001b[0;34m:\u001b[0m\u001b[0;34m\u001b[0m\u001b[0m\n\u001b[1;32m     19\u001b[0m     \u001b[0mprint\u001b[0m\u001b[0;34m(\u001b[0m\u001b[0mi\u001b[0m\u001b[0;34m)\u001b[0m\u001b[0;34m\u001b[0m\u001b[0m\n",
      "\u001b[0;32m~/anaconda3/lib/python3.6/site-packages/scipy/stats/morestats.py\u001b[0m in \u001b[0;36mboxcox\u001b[0;34m(x, lmbda, alpha)\u001b[0m\n\u001b[1;32m   1028\u001b[0m \u001b[0;34m\u001b[0m\u001b[0m\n\u001b[1;32m   1029\u001b[0m     \u001b[0;32mif\u001b[0m \u001b[0many\u001b[0m\u001b[0;34m(\u001b[0m\u001b[0mx\u001b[0m \u001b[0;34m<=\u001b[0m \u001b[0;36m0\u001b[0m\u001b[0;34m)\u001b[0m\u001b[0;34m:\u001b[0m\u001b[0;34m\u001b[0m\u001b[0m\n\u001b[0;32m-> 1030\u001b[0;31m         \u001b[0;32mraise\u001b[0m \u001b[0mValueError\u001b[0m\u001b[0;34m(\u001b[0m\u001b[0;34m\"Data must be positive.\"\u001b[0m\u001b[0;34m)\u001b[0m\u001b[0;34m\u001b[0m\u001b[0m\n\u001b[0m\u001b[1;32m   1031\u001b[0m \u001b[0;34m\u001b[0m\u001b[0m\n\u001b[1;32m   1032\u001b[0m     \u001b[0;32mif\u001b[0m \u001b[0mlmbda\u001b[0m \u001b[0;32mis\u001b[0m \u001b[0;32mnot\u001b[0m \u001b[0;32mNone\u001b[0m\u001b[0;34m:\u001b[0m  \u001b[0;31m# single transformation\u001b[0m\u001b[0;34m\u001b[0m\u001b[0m\n",
      "\u001b[0;31mValueError\u001b[0m: Data must be positive."
     ]
    }
   ],
   "source": [
    "col=[]\n",
    "for i in new_m_number_T.columns:\n",
    "    n=re.findall(r\"genre_(\\w+)\",i.strip(),re.I|re.M)\n",
    "    if len(n)==0:\n",
    "        col.append(i.strip())\n",
    "for i in col[:6]:\n",
    "    print(i)\n",
    "    new_m_number_T[i]=stats.boxcox(new_m_number[i])[0]\n",
    "for i in col[7:9]:\n",
    "    print(i)\n",
    "    new_m_number_T[i]=stats.boxcox(new_m_number[i])[0]\n",
    "for i in col[14:16]:\n",
    "    print(i)\n",
    "    new_m_number_T[i]=stats.boxcox(new_m_number[i])[0]\n",
    "for i in col[17:18]:\n",
    "    print(i)\n",
    "    new_m_number_T[i]=stats.boxcox(new_m_number[i])[0]\n",
    "for i in col[20:]:\n",
    "    print(i)\n",
    "    new_m_number_T[i]=stats.boxcox(new_m_number[i])[0]"
   ]
  },
  {
   "cell_type": "markdown",
   "metadata": {},
   "source": [
    "##### Scaling"
   ]
  },
  {
   "cell_type": "code",
   "execution_count": 30,
   "metadata": {},
   "outputs": [
    {
     "name": "stdout",
     "output_type": "stream",
     "text": [
      "    Unnamed: 0      Year   Runtime  Metascore  imdbRating  imdbVotes  \\\n",
      "12    0.000000  0.242573  0.424501   0.089598    0.026529   0.427738   \n",
      "20    0.002537  0.242573  0.419894   0.278384    0.204865   0.378539   \n",
      "26    0.004143  0.242573  0.526224   0.380221    0.344731   0.476382   \n",
      "27    0.004393  0.242573  0.466032   0.540546    0.316516   0.331568   \n",
      "28    0.004639  0.242573  0.470654   0.550481    0.453498   0.296057   \n",
      "\n",
      "    tomatoMeter  tomatoRating  tomatoReviews  tomatoFresh      ...        \\\n",
      "12         0.01      0.072000       0.391648     0.002915      ...         \n",
      "20         0.11      0.251195       0.388767     0.037901      ...         \n",
      "26         0.30      0.406618       0.536069     0.145773      ...         \n",
      "27         0.37      0.493020       0.385883     0.125364      ...         \n",
      "28         0.54      0.555732       0.397395     0.186589      ...         \n",
      "\n",
      "    genre_war  genre_animation  genre_sci-fi  genre_sport  genre_comedy  \\\n",
      "12        0.0              0.0           1.0          0.0           0.0   \n",
      "20        0.0              0.0           0.0          0.0           1.0   \n",
      "26        0.0              0.0           0.0          0.0           1.0   \n",
      "27        0.0              0.0           0.0          0.0           1.0   \n",
      "28        0.0              0.0           0.0          0.0           1.0   \n",
      "\n",
      "    genre_musical  genre_western  genre_reality-tv  genre_crime  genre_fantasy  \n",
      "12            0.0            0.0               0.0          0.0            0.0  \n",
      "20            0.0            0.0               0.0          0.0            0.0  \n",
      "26            0.0            0.0               0.0          1.0            0.0  \n",
      "27            0.0            0.0               0.0          0.0            0.0  \n",
      "28            0.0            0.0               0.0          0.0            0.0  \n",
      "\n",
      "[5 rows x 49 columns]\n"
     ]
    }
   ],
   "source": [
    "scaler = MinMaxScaler()\n",
    "new_m_number_T[list(new_m_number_T.columns)] = scaler.fit_transform(new_m_number_T[list(new_m_number_T.columns)])\n",
    "print(new_m_number_T.head())"
   ]
  },
  {
   "cell_type": "markdown",
   "metadata": {},
   "source": [
    "##### Re building MOdel with Transformed features"
   ]
  },
  {
   "cell_type": "code",
   "execution_count": 31,
   "metadata": {},
   "outputs": [
    {
     "name": "stdout",
     "output_type": "stream",
     "text": [
      "Linear model :  LinearRegression(copy_X=True, fit_intercept=True, n_jobs=1, normalize=True)\n",
      " R squared : 0.8960013122675489\n",
      "Linear model :  LinearRegression(copy_X=True, fit_intercept=True, n_jobs=1, normalize=True)\n",
      " R squared : 0.8864375094071201\n",
      "Linear model :  LinearRegression(copy_X=True, fit_intercept=True, n_jobs=1, normalize=True)\n",
      " R squared : 0.9308534141152752\n",
      "Linear model :  LinearRegression(copy_X=True, fit_intercept=True, n_jobs=1, normalize=True)\n",
      " R squared : 0.8962691434180154\n",
      "Linear model :  LinearRegression(copy_X=True, fit_intercept=True, n_jobs=1, normalize=True)\n",
      " R squared : 0.8966707116011097\n",
      "Linear model :  LinearRegression(copy_X=True, fit_intercept=True, n_jobs=1, normalize=True)\n",
      " R squared : 0.8969455800505873\n",
      "Linear model :  LinearRegression(copy_X=True, fit_intercept=True, n_jobs=1, normalize=True)\n",
      " R squared : 0.9115420864006457\n",
      "Linear model :  LinearRegression(copy_X=True, fit_intercept=True, n_jobs=1, normalize=True)\n",
      " R squared : 0.8777329661103173\n",
      "Linear model :  LinearRegression(copy_X=True, fit_intercept=True, n_jobs=1, normalize=True)\n",
      " R squared : 0.9167118801927332\n",
      "Linear model :  LinearRegression(copy_X=True, fit_intercept=True, n_jobs=1, normalize=True)\n",
      " R squared : 0.8924561874876532\n",
      "[0.8960013122675489, 0.8864375094071201, 0.9308534141152752, 0.8962691434180154, 0.8966707116011097, 0.8969455800505873, 0.9115420864006457, 0.8777329661103173, 0.9167118801927332, 0.8924561874876532]\n"
     ]
    },
    {
     "data": {
      "text/plain": [
       "<matplotlib.collections.PathCollection at 0x7fc8d9194b38>"
      ]
     },
     "execution_count": 31,
     "metadata": {},
     "output_type": "execute_result"
    },
    {
     "data": {
      "image/png": "[encoded data removed]",
      "text/plain": [
       "<Figure size 432x288 with 1 Axes>"
      ]
     },
     "metadata": {},
     "output_type": "display_data"
    }
   ],
   "source": [
    "X=new_m_number_T[[x for x in new_m_number.columns if x!='Gross']]\n",
    "y=new_m_number_T['Gross']\n",
    "r_sq=[]\n",
    "rgr= LinearRegression(normalize=True)\n",
    "fold=KFold(n_splits=10, random_state=42, shuffle=False)\n",
    "X_a=X.values\n",
    "y_a=y.values\n",
    "for train_index,test_index in fold.split(X):\n",
    "    X_train=X_a[train_index]\n",
    "    X_test= X_a[test_index]\n",
    "    y_train=y_a[train_index]\n",
    "    y_test=y_a[test_index]\n",
    "    rgr.fit(X_train,y_train)\n",
    "    print(\"Linear model : \",rgr)\n",
    "    y_pred=rgr.predict(X_test)\n",
    "    print(\" R squared :\",rgr.score(X_test,y_test))\n",
    "    r_sq.append(rgr.score(X_test,y_test))\n",
    "\n",
    "print(r_sq)\n",
    "r_sq_in=[i for i,x in enumerate(r_sq)]\n",
    "plt.scatter(r_sq,r_sq_in)"
   ]
  },
  {
   "cell_type": "code",
   "execution_count": 32,
   "metadata": {},
   "outputs": [
    {
     "data": {
      "text/plain": [
       "<matplotlib.legend.Legend at 0x7fc8d8e58ba8>"
      ]
     },
     "execution_count": 32,
     "metadata": {},
     "output_type": "execute_result"
    },
    {
     "data": {
      "image/png": "[encoded data removed]",
      "text/plain": [
       "<Figure size 432x288 with 1 Axes>"
      ]
     },
     "metadata": {},
     "output_type": "display_data"
    }
   ],
   "source": [
    "cv=ShuffleSplit(n_splits=100, test_size=0.2, random_state=0)\n",
    "train_sizes, train_scores, test_scores =learning_curve(rgr, X.values, y.values,\n",
    "                   train_sizes=np.linspace(0.1, 1.0, 5),\n",
    "                   cv=5,n_jobs=-1)\n",
    "train_scores_mean = np.mean(train_scores, axis=1)\n",
    "train_scores_std = np.std(train_scores, axis=1)\n",
    "test_scores_mean = np.mean(test_scores, axis=1)\n",
    "test_scores_std = np.std(test_scores, axis=1)\n",
    "plt.grid()\n",
    "#plt.ylim((-2,1.01))\n",
    "plt.fill_between(train_sizes, train_scores_mean - train_scores_std,\n",
    "                     train_scores_mean + train_scores_std, alpha=0.1,\n",
    "                     color=\"r\")\n",
    "plt.fill_between(train_sizes, test_scores_mean - test_scores_std,\n",
    "                     test_scores_mean + test_scores_std, alpha=0.1, color=\"g\")\n",
    "plt.plot(train_sizes, train_scores_mean, 'o-', color=\"r\",\n",
    "             label=\"Training score\")\n",
    "plt.plot(train_sizes, test_scores_mean, 'o-', color=\"g\",\n",
    "             label=\"Cross-validation score\")\n",
    "\n",
    "plt.legend(loc=\"best\")"
   ]
  },
  {
   "cell_type": "markdown",
   "metadata": {},
   "source": [
    "### Task - 13 Converting 3 categorical Columns to Binary Columns and building a model."
   ]
  },
  {
   "cell_type": "code",
   "execution_count": 33,
   "metadata": {},
   "outputs": [
    {
     "name": "stdout",
     "output_type": "stream",
     "text": [
      "<class 'pandas.core.frame.DataFrame'>\n",
      "Int64Index: 3163 entries, 12 to 40404\n",
      "Data columns (total 71 columns):\n",
      "Unnamed: 0           3163 non-null int64\n",
      "Title                3163 non-null object\n",
      "Year                 3163 non-null int64\n",
      "Rated                2921 non-null object\n",
      "Released             3122 non-null object\n",
      "Runtime              3163 non-null float64\n",
      "Genre                3161 non-null object\n",
      "Director             3152 non-null object\n",
      "Writer               3096 non-null object\n",
      "Actors               3144 non-null object\n",
      "Plot                 3131 non-null object\n",
      "Language             3152 non-null object\n",
      "Country              3159 non-null object\n",
      "Awards               2565 non-null object\n",
      "Poster               3108 non-null object\n",
      "Metascore            3163 non-null float64\n",
      "imdbRating           3163 non-null float64\n",
      "imdbVotes            3163 non-null float64\n",
      "imdbID               3163 non-null object\n",
      "Type                 3163 non-null object\n",
      "tomatoMeter          3163 non-null float64\n",
      "tomatoImage          2775 non-null object\n",
      "tomatoRating         3163 non-null float64\n",
      "tomatoReviews        3163 non-null float64\n",
      "tomatoFresh          3163 non-null float64\n",
      "tomatoRotten         3163 non-null float64\n",
      "tomatoConsensus      2456 non-null object\n",
      "tomatoUserMeter      3163 non-null float64\n",
      "tomatoUserRating     3163 non-null float64\n",
      "tomatoUserReviews    3163 non-null float64\n",
      "tomatoURL            3073 non-null object\n",
      "DVD                  2889 non-null object\n",
      "BoxOffice            18 non-null object\n",
      "Production           2924 non-null object\n",
      "Website              2736 non-null object\n",
      "Response             3163 non-null bool\n",
      "Budget               3163 non-null float64\n",
      "Domestic_Gross       3163 non-null float64\n",
      "Gross                3163 non-null float64\n",
      "Date                 3163 non-null float64\n",
      "Wins                 3163 non-null int64\n",
      "Nominations          3163 non-null int64\n",
      "genre_action         3163 non-null int64\n",
      "genre_horror         3163 non-null int64\n",
      "genre_film-noir      3163 non-null int64\n",
      "genre_mystery        3163 non-null int64\n",
      "genre_talk-show      3163 non-null int64\n",
      "genre_thriller       3163 non-null int64\n",
      "genre_adventure      3163 non-null int64\n",
      "genre_music          3163 non-null int64\n",
      "genre_drama          3163 non-null int64\n",
      "genre_family         3163 non-null int64\n",
      "genre_news           3163 non-null int64\n",
      "genre_adult          3163 non-null int64\n",
      "genre_short          3163 non-null int64\n",
      "genre_nan            3163 non-null int64\n",
      "genre_biography      3163 non-null int64\n",
      "genre_game-show      3163 non-null int64\n",
      "genre_romance        3163 non-null int64\n",
      "genre_documentary    3163 non-null int64\n",
      "genre_history        3163 non-null int64\n",
      "genre_war            3163 non-null int64\n",
      "genre_animation      3163 non-null int64\n",
      "genre_sci-fi         3163 non-null int64\n",
      "genre_sport          3163 non-null int64\n",
      "genre_comedy         3163 non-null int64\n",
      "genre_musical        3163 non-null int64\n",
      "genre_western        3163 non-null int64\n",
      "genre_reality-tv     3163 non-null int64\n",
      "genre_crime          3163 non-null int64\n",
      "genre_fantasy        3163 non-null int64\n",
      "dtypes: bool(1), float64(16), int64(33), object(21)\n",
      "memory usage: 1.7+ MB\n",
      "<class 'pandas.core.frame.DataFrame'>\n",
      "Int64Index: 3163 entries, 12 to 40404\n",
      "Data columns (total 49 columns):\n",
      "Unnamed: 0           3163 non-null int64\n",
      "Year                 3163 non-null int64\n",
      "Runtime              3163 non-null float64\n",
      "Metascore            3163 non-null float64\n",
      "imdbRating           3163 non-null float64\n",
      "imdbVotes            3163 non-null float64\n",
      "tomatoMeter          3163 non-null float64\n",
      "tomatoRating         3163 non-null float64\n",
      "tomatoReviews        3163 non-null float64\n",
      "tomatoFresh          3163 non-null float64\n",
      "tomatoRotten         3163 non-null float64\n",
      "tomatoUserMeter      3163 non-null float64\n",
      "tomatoUserRating     3163 non-null float64\n",
      "tomatoUserReviews    3163 non-null float64\n",
      "Response             3163 non-null bool\n",
      "Budget               3163 non-null float64\n",
      "Domestic_Gross       3163 non-null float64\n",
      "Gross                3163 non-null float64\n",
      "Date                 3163 non-null float64\n",
      "Wins                 3163 non-null int64\n",
      "Nominations          3163 non-null int64\n",
      "genre_action         3163 non-null int64\n",
      "genre_horror         3163 non-null int64\n",
      "genre_film-noir      3163 non-null int64\n",
      "genre_mystery        3163 non-null int64\n",
      "genre_talk-show      3163 non-null int64\n",
      "genre_thriller       3163 non-null int64\n",
      "genre_adventure      3163 non-null int64\n",
      "genre_music          3163 non-null int64\n",
      "genre_drama          3163 non-null int64\n",
      "genre_family         3163 non-null int64\n",
      "genre_news           3163 non-null int64\n",
      "genre_adult          3163 non-null int64\n",
      "genre_short          3163 non-null int64\n",
      "genre_biography      3163 non-null int64\n",
      "genre_game-show      3163 non-null int64\n",
      "genre_romance        3163 non-null int64\n",
      "genre_documentary    3163 non-null int64\n",
      "genre_history        3163 non-null int64\n",
      "genre_war            3163 non-null int64\n",
      "genre_animation      3163 non-null int64\n",
      "genre_sci-fi         3163 non-null int64\n",
      "genre_sport          3163 non-null int64\n",
      "genre_comedy         3163 non-null int64\n",
      "genre_musical        3163 non-null int64\n",
      "genre_western        3163 non-null int64\n",
      "genre_reality-tv     3163 non-null int64\n",
      "genre_crime          3163 non-null int64\n",
      "genre_fantasy        3163 non-null int64\n",
      "dtypes: bool(1), float64(16), int64(32)\n",
      "memory usage: 1.2 MB\n"
     ]
    },
    {
     "data": {
      "text/plain": [
       "(None, None)"
      ]
     },
     "execution_count": 33,
     "metadata": {},
     "output_type": "execute_result"
    }
   ],
   "source": [
    "new_m.info(),new_m_number.info()"
   ]
  },
  {
   "cell_type": "markdown",
   "metadata": {},
   "source": [
    "##### Choosing the below 3 Columns for Categories"
   ]
  },
  {
   "cell_type": "code",
   "execution_count": 34,
   "metadata": {},
   "outputs": [
    {
     "data": {
      "text/plain": [
       "(12               R\n",
       " 20              PG\n",
       " 26           PG-13\n",
       " 27           PG-13\n",
       " 28              PG\n",
       " 37           PG-13\n",
       " 43       NOT RATED\n",
       " 46             NaN\n",
       " 50           PG-13\n",
       " 51               R\n",
       " 52           PG-13\n",
       " 56         UNRATED\n",
       " 61           PG-13\n",
       " 68              PG\n",
       " 72           PG-13\n",
       " 82           PG-13\n",
       " 85               R\n",
       " 93           PG-13\n",
       " 97               R\n",
       " 102              R\n",
       " 104          PG-13\n",
       " 106              R\n",
       " 107              R\n",
       " 112              G\n",
       " 115          NC-17\n",
       " 125          PG-13\n",
       " 126              R\n",
       " 132              R\n",
       " 141          PG-13\n",
       " 147              R\n",
       "            ...    \n",
       " 40342            R\n",
       " 40343            R\n",
       " 40345           PG\n",
       " 40346            R\n",
       " 40347          NaN\n",
       " 40348        PG-13\n",
       " 40349            R\n",
       " 40350            R\n",
       " 40351        PG-13\n",
       " 40352        PG-13\n",
       " 40353        PG-13\n",
       " 40356        PG-13\n",
       " 40357            R\n",
       " 40358            G\n",
       " 40359            R\n",
       " 40361        PG-13\n",
       " 40362        PG-13\n",
       " 40363        PG-13\n",
       " 40364        PG-13\n",
       " 40365        PG-13\n",
       " 40366            R\n",
       " 40367           PG\n",
       " 40369            R\n",
       " 40371            R\n",
       " 40373            R\n",
       " 40374            R\n",
       " 40375        PG-13\n",
       " 40376            R\n",
       " 40383          NaN\n",
       " 40404          NaN\n",
       " Name: Rated, Length: 3163, dtype: object,\n",
       " 12                                    Canada, Germany, USA\n",
       " 20                                             USA, Canada\n",
       " 26                                                     USA\n",
       " 27                                                     USA\n",
       " 28                                                     USA\n",
       " 37                               USA, New Zealand, Germany\n",
       " 43                                        Philippines, USA\n",
       " 46                                               UK, India\n",
       " 50                                            USA, Germany\n",
       " 51                                            USA, Germany\n",
       " 52                                            USA, Germany\n",
       " 56       Italy, USA, Netherlands, Spain, Denmark, Franc...\n",
       " 61                                                     USA\n",
       " 68                                                     USA\n",
       " 72                                             Canada, USA\n",
       " 82                                            USA, Germany\n",
       " 85                                                     USA\n",
       " 93                                                     USA\n",
       " 97                                                     USA\n",
       " 102                                           USA, Germany\n",
       " 104                                                    USA\n",
       " 106                                           USA, Germany\n",
       " 107                                         Australia, USA\n",
       " 112                                            USA, Canada\n",
       " 115                                                    USA\n",
       " 125                                            USA, Canada\n",
       " 126                       USA, UK, Spain, Germany, Morocco\n",
       " 132                                                    USA\n",
       " 141                                                    USA\n",
       " 147                                                USA, UK\n",
       "                                ...                        \n",
       " 40342                                                  USA\n",
       " 40343                                                  USA\n",
       " 40345                                              UK, USA\n",
       " 40346                                                  USA\n",
       " 40347                                                  USA\n",
       " 40348                                                  USA\n",
       " 40349                                                  USA\n",
       " 40350                                          France, USA\n",
       " 40351                                                  USA\n",
       " 40352                         Germany, Luxembourg, UK, USA\n",
       " 40353                                         USA, Germany\n",
       " 40356                                           USA, Spain\n",
       " 40357                                                  USA\n",
       " 40358                                                  USA\n",
       " 40359                                         USA, Germany\n",
       " 40361                                                  USA\n",
       " 40362                                         USA, Germany\n",
       " 40363                                                  USA\n",
       " 40364                                                  USA\n",
       " 40365                                                  USA\n",
       " 40366                                                  USA\n",
       " 40367                                                  USA\n",
       " 40369                                         USA, Ireland\n",
       " 40371                                                  USA\n",
       " 40373                                          USA, Canada\n",
       " 40374                                                  USA\n",
       " 40375                                         Germany, USA\n",
       " 40376                                                  USA\n",
       " 40383                                                  USA\n",
       " 40404                                              Germany\n",
       " Name: Country, Length: 3163, dtype: object,\n",
       " 12                               English\n",
       " 20                               English\n",
       " 26                      English, Russian\n",
       " 27                               English\n",
       " 28                               English\n",
       " 37                               English\n",
       " 43            Filipino, Tagalog, English\n",
       " 46                        English, Hindi\n",
       " 50                               English\n",
       " 51            English, Filipino, Tagalog\n",
       " 52                               English\n",
       " 56                               English\n",
       " 61                               English\n",
       " 68                               English\n",
       " 72                     English, Japanese\n",
       " 82                               English\n",
       " 85                               English\n",
       " 93                               English\n",
       " 97                               English\n",
       " 102                              English\n",
       " 104                              English\n",
       " 106                              English\n",
       " 107                              English\n",
       " 112                              English\n",
       " 115                              English\n",
       " 125                              English\n",
       " 126      English, Arabic, Latin, Italian\n",
       " 132                              English\n",
       " 141                              English\n",
       " 147                              English\n",
       "                       ...               \n",
       " 40342                   English, Italian\n",
       " 40343                            English\n",
       " 40345                            English\n",
       " 40346                            English\n",
       " 40347                            English\n",
       " 40348                            English\n",
       " 40349                            English\n",
       " 40350                   English, Spanish\n",
       " 40351                   English, Spanish\n",
       " 40352                            English\n",
       " 40353                            English\n",
       " 40356                    English, French\n",
       " 40357                            English\n",
       " 40358            English, Dutch, Italian\n",
       " 40359                    English, French\n",
       " 40361                            English\n",
       " 40362                            English\n",
       " 40363                            English\n",
       " 40364                            English\n",
       " 40365                    English, Arabic\n",
       " 40366                            English\n",
       " 40367                            English\n",
       " 40369                   English, Spanish\n",
       " 40371                    English, French\n",
       " 40373                            English\n",
       " 40374                   English, Spanish\n",
       " 40375                   English, Italian\n",
       " 40376                            English\n",
       " 40383                            English\n",
       " 40404                             German\n",
       " Name: Language, Length: 3163, dtype: object)"
      ]
     },
     "execution_count": 34,
     "metadata": {},
     "output_type": "execute_result"
    }
   ],
   "source": [
    "\n",
    "new_m['Rated'],new_m['Country'],new_m['Language']"
   ]
  },
  {
   "cell_type": "markdown",
   "metadata": {},
   "source": [
    "##### Transforming the rated column to binary encoding"
   ]
  },
  {
   "cell_type": "code",
   "execution_count": 35,
   "metadata": {},
   "outputs": [],
   "source": [
    "rated=[]\n",
    "for i in new_m['Rated']:\n",
    "    i=str(i).split(\",\")\n",
    "    for j in i:\n",
    "        rated.append(j.strip().lower())\n",
    "rated_set=set([\"rated_\"+x.strip().lower() for x in rated])"
   ]
  },
  {
   "cell_type": "code",
   "execution_count": 36,
   "metadata": {},
   "outputs": [],
   "source": [
    "\n",
    "rated_values={}\n",
    "rated=new_m.iloc[:,:]['Rated']\n",
    "for i in rated_set:\n",
    "    new_m[i]=np.nan\n",
    "    rated_values[i]=[]  "
   ]
  },
  {
   "cell_type": "code",
   "execution_count": 37,
   "metadata": {},
   "outputs": [],
   "source": [
    "b=rated.index\n",
    "for i in b:\n",
    "    rat_str=str(rated[i])\n",
    "    rr=rat_str.split(',')\n",
    "    r=[\"rated_\"+x.strip().lower() for x in rr]\n",
    "    r_set=set(r)\n",
    "    for j in r_set:\n",
    "        if j in rated_set:\n",
    "            rated_values[j].insert(i,1)\n",
    "    for j in (rated_set-r_set):\n",
    "        rated_values[j].insert(i,0)"
   ]
  },
  {
   "cell_type": "code",
   "execution_count": 38,
   "metadata": {},
   "outputs": [],
   "source": [
    "for i in rated_values:\n",
    "    new_m[i]=rated_values[i]"
   ]
  },
  {
   "cell_type": "markdown",
   "metadata": {},
   "source": [
    "##### Binary Encoding of Country column"
   ]
  },
  {
   "cell_type": "code",
   "execution_count": 39,
   "metadata": {},
   "outputs": [],
   "source": [
    "country=[]\n",
    "for i in new_m['Country']:\n",
    "    i=str(i).split(\",\")\n",
    "    for j in i:\n",
    "        country.append(j.strip().lower())\n",
    "country_set=set([\"country_\"+x.strip().lower() for x in country])\n",
    "\n",
    "country_values={}\n",
    "country=new_m.iloc[:,:]['Country']\n",
    "for i in country_set:\n",
    "    new_m[i]=np.nan\n",
    "    country_values[i]=[] \n",
    "    \n",
    "b=country.index\n",
    "for i in b:\n",
    "    countryr=[\"country_\"+x.strip().lower() for x in str(country[i]).split(',')]\n",
    "    countryr_set=set(countryr)\n",
    "    for j in countryr_set:\n",
    "        if j in country_set:\n",
    "            country_values[j].insert(i,1)\n",
    "    for j in (country_set-countryr_set):\n",
    "        country_values[j].insert(i,0)"
   ]
  },
  {
   "cell_type": "code",
   "execution_count": 40,
   "metadata": {},
   "outputs": [],
   "source": [
    "for i in country_values:\n",
    "    new_m[i]=country_values[i]"
   ]
  },
  {
   "cell_type": "markdown",
   "metadata": {},
   "source": [
    "##### Binary encoding of Language Column"
   ]
  },
  {
   "cell_type": "code",
   "execution_count": 41,
   "metadata": {},
   "outputs": [],
   "source": [
    "lang=[]\n",
    "for i in new_m['Language']:\n",
    "    i=str(i).split(\",\")\n",
    "    for j in i:\n",
    "        lang.append(j.strip().lower())\n",
    "lang_set=set([\"lang_\"+x.strip().lower() for x in lang])\n",
    "\n",
    "lang_values={}\n",
    "lang=new_m.iloc[:,:]['Language']\n",
    "for i in lang_set:\n",
    "    new_m[i]=np.nan\n",
    "    lang_values[i]=[] \n",
    "    \n",
    "b=lang.index\n",
    "for i in b:\n",
    "    langr=[\"lang_\"+x.strip().lower() for x in str(lang[i]).split(',')]\n",
    "    langr_set=set(langr)\n",
    "    for j in langr_set:\n",
    "        if j in lang_set:\n",
    "            lang_values[j].insert(i,1)\n",
    "    for j in (lang_set-langr_set):\n",
    "        lang_values[j].insert(i,0)"
   ]
  },
  {
   "cell_type": "code",
   "execution_count": 42,
   "metadata": {},
   "outputs": [],
   "source": [
    "for i in lang_values:\n",
    "    new_m[i]=lang_values[i]"
   ]
  },
  {
   "cell_type": "markdown",
   "metadata": {},
   "source": [
    "##### Getting the numeric data from original dataset"
   ]
  },
  {
   "cell_type": "code",
   "execution_count": 43,
   "metadata": {},
   "outputs": [],
   "source": [
    "new_m_number=new_m._get_numeric_data()"
   ]
  },
  {
   "cell_type": "markdown",
   "metadata": {},
   "source": [
    "##### Setting NAs to mean of the column value"
   ]
  },
  {
   "cell_type": "code",
   "execution_count": 44,
   "metadata": {},
   "outputs": [],
   "source": [
    "for i in new_m_number.columns:\n",
    "    if new_m_number[i].isnull().values.any():\n",
    "        m=new_m_number[i].mean(axis=0,skipna=True)\n",
    "        new_m_number[i]=new_m_number[i].apply(lambda x: m if x==math.isnan(x) else x)"
   ]
  },
  {
   "cell_type": "markdown",
   "metadata": {},
   "source": [
    "##### Dropping nan encoded columns"
   ]
  },
  {
   "cell_type": "code",
   "execution_count": 45,
   "metadata": {},
   "outputs": [],
   "source": [
    "new_m_number.drop(labels=\"genre_nan\",axis=1,inplace=True)\n",
    "new_m_number.drop(labels=\"rated_nan\",axis=1,inplace=True)\n",
    "new_m_number.drop(labels=\"country_nan\",axis=1,inplace=True)\n",
    "new_m_number.drop(labels=\"lang_nan\",axis=1,inplace=True)\n",
    "new_m_number.drop(labels=\"rated_unrated\",axis=1,inplace=True)\n",
    "new_m_number.drop(labels=\"rated_not rated\",axis=1,inplace=True)"
   ]
  },
  {
   "cell_type": "markdown",
   "metadata": {},
   "source": [
    "##### Transforming the Features"
   ]
  },
  {
   "cell_type": "code",
   "execution_count": 46,
   "metadata": {},
   "outputs": [
    {
     "name": "stdout",
     "output_type": "stream",
     "text": [
      "Unnamed: 0\n",
      "Year\n",
      "Runtime\n",
      "Metascore\n",
      "imdbRating\n",
      "imdbVotes\n",
      "tomatoRating\n",
      "tomatoReviews\n",
      "Response\n",
      "Budget\n",
      "Date\n"
     ]
    },
    {
     "name": "stderr",
     "output_type": "stream",
     "text": [
      "/home/uma/anaconda3/lib/python3.6/site-packages/scipy/stats/morestats.py:900: RuntimeWarning: divide by zero encountered in log\n",
      "  llf -= N / 2.0 * np.log(np.sum((y - y_mean)**2. / N, axis=0))\n",
      "/home/uma/anaconda3/lib/python3.6/site-packages/scipy/optimize/optimize.py:1926: RuntimeWarning: invalid value encountered in double_scalars\n",
      "  tmp1 = (x - w) * (fx - fv)\n",
      "/home/uma/anaconda3/lib/python3.6/site-packages/scipy/optimize/optimize.py:1927: RuntimeWarning: invalid value encountered in double_scalars\n",
      "  tmp2 = (x - v) * (fx - fw)\n"
     ]
    }
   ],
   "source": [
    "new_m_number_T=new_m_number.copy()\n",
    "col=[]\n",
    "for i in new_m_number_T.columns:\n",
    "    n=re.findall(r\"(\\w+)_(\\w+)\",i.strip(),re.I|re.M)\n",
    "    if len(n)==0:\n",
    "        col.append(i.strip())\n",
    "for i in col[:6]:\n",
    "    print(i)\n",
    "    new_m_number_T[i]=stats.boxcox(new_m_number[i])[0]\n",
    "for i in col[7:9]:\n",
    "    print(i)\n",
    "    new_m_number_T[i]=stats.boxcox(new_m_number[i])[0]\n",
    "for i in col[14:16]:\n",
    "    print(i)\n",
    "    new_m_number_T[i]=stats.boxcox(new_m_number[i])[0]\n",
    "for i in col[17:18]:\n",
    "    print(i)\n",
    "    new_m_number_T[i]=stats.boxcox(new_m_number[i])[0]\n",
    "for i in col[20:]:\n",
    "    print(i)\n",
    "    new_m_number_T[i]=stats.boxcox(new_m_number[i])[0]"
   ]
  },
  {
   "cell_type": "markdown",
   "metadata": {},
   "source": [
    "##### Scaling the features"
   ]
  },
  {
   "cell_type": "code",
   "execution_count": 47,
   "metadata": {},
   "outputs": [
    {
     "name": "stdout",
     "output_type": "stream",
     "text": [
      "    Unnamed: 0      Year   Runtime  Metascore  imdbRating  imdbVotes  \\\n",
      "12    0.000000  0.242573  0.424501   0.089598    0.026529   0.427738   \n",
      "20    0.002537  0.242573  0.419894   0.278384    0.204865   0.378539   \n",
      "26    0.004143  0.242573  0.526224   0.380221    0.344731   0.476382   \n",
      "27    0.004393  0.242573  0.466032   0.540546    0.316516   0.331568   \n",
      "28    0.004639  0.242573  0.470654   0.550481    0.453498   0.296057   \n",
      "\n",
      "    tomatoMeter  tomatoRating  tomatoReviews  tomatoFresh     ...      \\\n",
      "12         0.01      0.072000       0.391648     0.002915     ...       \n",
      "20         0.11      0.251195       0.388767     0.037901     ...       \n",
      "26         0.30      0.406618       0.536069     0.145773     ...       \n",
      "27         0.37      0.493020       0.385883     0.125364     ...       \n",
      "28         0.54      0.555732       0.397395     0.186589     ...       \n",
      "\n",
      "    lang_british sign language  lang_tonga  lang_hebrew  lang_danish  \\\n",
      "12                         0.0         0.0          0.0          0.0   \n",
      "20                         0.0         0.0          0.0          0.0   \n",
      "26                         0.0         0.0          0.0          0.0   \n",
      "27                         0.0         0.0          0.0          0.0   \n",
      "28                         0.0         0.0          0.0          0.0   \n",
      "\n",
      "    lang_lao  lang_hmong  lang_bengali  lang_burmese  \\\n",
      "12       0.0         0.0           0.0           0.0   \n",
      "20       0.0         0.0           0.0           0.0   \n",
      "26       0.0         0.0           0.0           0.0   \n",
      "27       0.0         0.0           0.0           0.0   \n",
      "28       0.0         0.0           0.0           0.0   \n",
      "\n",
      "    lang_american sign language  lang_welsh  \n",
      "12                          0.0         0.0  \n",
      "20                          0.0         0.0  \n",
      "26                          0.0         0.0  \n",
      "27                          0.0         0.0  \n",
      "28                          0.0         0.0  \n",
      "\n",
      "[5 rows x 261 columns]\n"
     ]
    }
   ],
   "source": [
    "from sklearn.preprocessing import MinMaxScaler\n",
    "scaler = MinMaxScaler()\n",
    "new_m_number_T[list(new_m_number_T.columns)] = scaler.fit_transform(new_m_number_T[list(new_m_number_T.columns)])\n",
    "print(new_m_number_T.head())"
   ]
  },
  {
   "cell_type": "markdown",
   "metadata": {},
   "source": [
    "##### Rebuilding the model and plotting R^2 plot"
   ]
  },
  {
   "cell_type": "code",
   "execution_count": 48,
   "metadata": {},
   "outputs": [
    {
     "name": "stdout",
     "output_type": "stream",
     "text": [
      "Linear model :  LinearRegression(copy_X=True, fit_intercept=True, n_jobs=1, normalize=True)\n",
      " R squared : -1.0640865580292596e+26\n",
      "Linear model :  LinearRegression(copy_X=True, fit_intercept=True, n_jobs=1, normalize=True)\n",
      " R squared : -5.010281498345652e+26\n",
      "Linear model :  LinearRegression(copy_X=True, fit_intercept=True, n_jobs=1, normalize=True)\n",
      " R squared : -6.459591104091247e+25\n",
      "Linear model :  LinearRegression(copy_X=True, fit_intercept=True, n_jobs=1, normalize=True)\n",
      " R squared : -1.62112967966471e+26\n",
      "Linear model :  LinearRegression(copy_X=True, fit_intercept=True, n_jobs=1, normalize=True)\n",
      " R squared : -5.923607579265955e+25\n",
      "Linear model :  LinearRegression(copy_X=True, fit_intercept=True, n_jobs=1, normalize=True)\n",
      " R squared : -3.3342404476621404e+26\n",
      "Linear model :  LinearRegression(copy_X=True, fit_intercept=True, n_jobs=1, normalize=True)\n",
      " R squared : -1.6172484711439806e+25\n",
      "Linear model :  LinearRegression(copy_X=True, fit_intercept=True, n_jobs=1, normalize=True)\n",
      " R squared : -3.9914465808135995e+26\n",
      "Linear model :  LinearRegression(copy_X=True, fit_intercept=True, n_jobs=1, normalize=True)\n",
      " R squared : -1.621632465805082e+26\n",
      "Linear model :  LinearRegression(copy_X=True, fit_intercept=True, n_jobs=1, normalize=True)\n",
      " R squared : -5.374590343883241e+25\n",
      "[-1.0640865580292596e+26, -5.010281498345652e+26, -6.459591104091247e+25, -1.62112967966471e+26, -5.923607579265955e+25, -3.3342404476621404e+26, -1.6172484711439806e+25, -3.9914465808135995e+26, -1.621632465805082e+26, -5.374590343883241e+25]\n"
     ]
    },
    {
     "data": {
      "text/plain": [
       "<matplotlib.collections.PathCollection at 0x7fc8d134c588>"
      ]
     },
     "execution_count": 48,
     "metadata": {},
     "output_type": "execute_result"
    },
    {
     "data": {
      "image/png": "[encoded data removed]",
      "text/plain": [
       "<Figure size 432x288 with 1 Axes>"
      ]
     },
     "metadata": {},
     "output_type": "display_data"
    }
   ],
   "source": [
    "X=new_m_number_T[[x for x in new_m_number.columns if x!='Gross']]\n",
    "y=new_m_number_T['Gross']\n",
    "r_sq=[]\n",
    "rgr= LinearRegression(normalize=True)\n",
    "fold=KFold(n_splits=10, random_state=42, shuffle=False)\n",
    "X_a=X.values\n",
    "y_a=y.values\n",
    "for train_index,test_index in fold.split(X):\n",
    "    X_train=X_a[train_index]\n",
    "    X_test= X_a[test_index]\n",
    "    y_train=y_a[train_index]\n",
    "    y_test=y_a[test_index]\n",
    "    rgr.fit(X_train,y_train)\n",
    "    print(\"Linear model : \",rgr)\n",
    "    y_pred=rgr.predict(X_test)\n",
    "    print(\" R squared :\",rgr.score(X_test,y_test))\n",
    "    r_sq.append(rgr.score(X_test,y_test))\n",
    "\n",
    "print(r_sq)\n",
    "r_sq_in=[i for i,x in enumerate(r_sq)]\n",
    "plt.scatter(r_sq,r_sq_in)"
   ]
  },
  {
   "cell_type": "markdown",
   "metadata": {},
   "source": [
    "##### Plotting Learning Curve"
   ]
  },
  {
   "cell_type": "code",
   "execution_count": 49,
   "metadata": {},
   "outputs": [
    {
     "data": {
      "text/plain": [
       "<matplotlib.legend.Legend at 0x7fc8c3798fd0>"
      ]
     },
     "execution_count": 49,
     "metadata": {},
     "output_type": "execute_result"
    },
    {
     "data": {
      "image/png": "[encoded data removed]",
      "text/plain": [
       "<Figure size 432x288 with 1 Axes>"
      ]
     },
     "metadata": {},
     "output_type": "display_data"
    }
   ],
   "source": [
    "cv=ShuffleSplit(n_splits=100, test_size=0.2, random_state=0)\n",
    "train_sizes, train_scores, test_scores =learning_curve(rgr, X.values, y.values,\n",
    "                   train_sizes=np.linspace(0.1, 1.0, 5),\n",
    "                   cv=5,n_jobs=-1)\n",
    "train_scores_mean = np.mean(train_scores, axis=1)\n",
    "train_scores_std = np.std(train_scores, axis=1)\n",
    "test_scores_mean = np.mean(test_scores, axis=1)\n",
    "test_scores_std = np.std(test_scores, axis=1)\n",
    "plt.grid()\n",
    "#plt.ylim((-2,1.01))\n",
    "plt.fill_between(train_sizes, train_scores_mean - train_scores_std,\n",
    "                     train_scores_mean + train_scores_std, alpha=0.1,\n",
    "                     color=\"r\")\n",
    "plt.fill_between(train_sizes, test_scores_mean - test_scores_std,\n",
    "                     test_scores_mean + test_scores_std, alpha=0.1, color=\"g\")\n",
    "plt.plot(train_sizes, train_scores_mean, 'o-', color=\"r\",\n",
    "             label=\"Training score\")\n",
    "plt.plot(train_sizes, test_scores_mean, 'o-', color=\"g\",\n",
    "             label=\"Cross-validation score\")\n",
    "\n",
    "plt.legend(loc=\"best\")"
   ]
  }
 ],
 "metadata": {
  "kernelspec": {
   "display_name": "Python 3",
   "language": "python",
   "name": "python3"
  },
  "language_info": {
   "codemirror_mode": {
    "name": "ipython",
    "version": 3
   },
   "file_extension": ".py",
   "mimetype": "text/x-python",
   "name": "python",
   "nbconvert_exporter": "python",
   "pygments_lexer": "ipython3",
   "version": "3.6.5"
  }
 },
 "nbformat": 4,
 "nbformat_minor": 2
}
